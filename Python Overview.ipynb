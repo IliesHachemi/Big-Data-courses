{
 "cells": [
  {
   "cell_type": "markdown",
   "metadata": {
    "id": "UsbuB0aetRGj"
   },
   "source": [
    "# Notebook 1: Python Overview\n",
    "\n",
    "## Motivations\n",
    "\n",
    "Spark provides multiple *Application Programming Interfaces* (API), i.e. the interface allowing the user to interact with the application. The main APIs are [Scala](http://spark.apache.org/docs/latest/api/scala/index.html#org.apache.spark.package) and [Java](http://spark.apache.org/docs/latest/api/java/index.html) APIs, as Spark is implemented in Scala and runs on the Java Virtual Machine (JVM).\n",
    "Since the 0.7.0 version, a [Python API](http://spark.apache.org/docs/latest/api/python/index.html) is available, also known as PySpark. An [R API](http://spark.apache.org/docs/latest/api/R/index.html) has been released with 1.5.0 version. During this course, you will be using Spark 2.4.4.\n",
    "\n",
    "Throughout this course we will use the Python API for the following reasons:\n",
    "- R API is still too young and limited to be relied on. Besides, R can quickly become a living hell when using immature libraries.\n",
    "- Many of you are wanabee datascientists, and Python is a must-know language in data industry.\n",
    "- Scala and Java APIs would have been quite hard to learn given the length of the course and your actual programming skills.\n",
    "- Python is easy to learn, and even easier if you are already familiar with R.\n",
    "\n",
    "The goal of this session is to teach (or remind) you the syntax of basic operations, control structures and declarations in Python that will be useful as datascientist. Keep in mind that we do not have a lot of time, and that you should be able to create functions and classes and to manipulate them at the end of the lab. If you don't get that, the rest of the course will be hard to follow. Don't hesitate to ask for explanations and/or more exercises if you don't feel  confident enough at the end of the lab.\n",
    "\n",
    "**Note:** Python comes in two flavours, Python 2 and Python 3. Python 2 is now officially deprecated so there is no longer any support. However, a lot of companies have still a lot of code in Python 2 (Tensorflow only supports python 3 since 2019 and Google is well known for his extensive use of Python 2). In this course, we will use Python 3 rather than Python 2. Note that if you know Python 2, learning Python 3 will be lightning-fast.\n",
    "For those who are interested, you can quickly learn Python 3 syntax [over here](https://learnxinyminutes.com/docs/python3/) or find some [cheatsheets](http://ptgmedia.pearsoncmg.com/imprint_downloads/informit/promotions/python/python2python3.pdf) highlighting the differences between the two versions. Spark Python API is compatible with Python 3 since Spark 1.4.0.\n",
    "\n",
    "When you look at stackoverflow, please be aware that they might share snippets of code in another python version and that you might need to translate them. So no stupid copy-paste.\n",
    "\n",
    "*This introduction relies on [Learn Python in Y minutes](https://learnxinyminutes.com/docs/python/)*\n",
    "\n",
    "## Introduction\n",
    "\n",
    "Python is a high level, general-purpose interpreted language. Python is meant to be very concise and readable, it is thus a very pleasant language to work with. \n",
    "\n",
    "## 1. Primitive Datatypes and Operators\n",
    "Read section 1 of [Learn python in Y Minutes](https://learnxinyminutes.com/docs/python/) (if you already know Python, you can skip this step). Then, replace `???` in the following cells with your code to answer the questions. To get started, please run the following cell."
   ]
  },
  {
   "cell_type": "code",
   "execution_count": null,
   "metadata": {
    "id": "jQw7ZpiD6dt6"
   },
   "outputs": [],
   "source": []
  },
  {
   "cell_type": "markdown",
   "metadata": {
    "id": "xaJAXdwatRHB"
   },
   "source": [
    "Compute 4 + 8"
   ]
  },
  {
   "cell_type": "code",
   "execution_count": null,
   "metadata": {
    "colab": {
     "base_uri": "https://localhost:8080/"
    },
    "id": "kxvDBoUltRHD",
    "outputId": "911db93b-8f10-4d40-b2ee-63fbc0e0bd09"
   },
   "outputs": [
    {
     "data": {
      "text/plain": [
       "12"
      ]
     },
     "execution_count": 1,
     "metadata": {
      "tags": []
     },
     "output_type": "execute_result"
    }
   ],
   "source": [
    "4+8"
   ]
  },
  {
   "cell_type": "markdown",
   "metadata": {
    "id": "uumGlRjUtRHQ"
   },
   "source": [
    "Compute 4 * 8"
   ]
  },
  {
   "cell_type": "code",
   "execution_count": null,
   "metadata": {
    "colab": {
     "base_uri": "https://localhost:8080/"
    },
    "id": "V88uqJeatRHS",
    "outputId": "b1d982f5-e3ce-4c39-eb9d-4852f9763799"
   },
   "outputs": [
    {
     "data": {
      "text/plain": [
       "32"
      ]
     },
     "execution_count": 2,
     "metadata": {
      "tags": []
     },
     "output_type": "execute_result"
    }
   ],
   "source": [
    "4*8"
   ]
  },
  {
   "cell_type": "markdown",
   "metadata": {
    "id": "iFsOahCatRHd"
   },
   "source": [
    "Compute 4 / 8 (using the regular division operation, not integer division)"
   ]
  },
  {
   "cell_type": "code",
   "execution_count": null,
   "metadata": {
    "colab": {
     "base_uri": "https://localhost:8080/"
    },
    "id": "TolXN7L5tRHg",
    "outputId": "f862d547-516e-4939-9d2f-5ae042ef3db2"
   },
   "outputs": [
    {
     "data": {
      "text/plain": [
       "0.5"
      ]
     },
     "execution_count": 11,
     "metadata": {
      "tags": []
     },
     "output_type": "execute_result"
    }
   ],
   "source": [
    "4.0/8.0"
   ]
  },
  {
   "cell_type": "markdown",
   "metadata": {
    "id": "atTzFxBG9WMy"
   },
   "source": [
    "Compute $4^8$"
   ]
  },
  {
   "cell_type": "code",
   "execution_count": null,
   "metadata": {
    "colab": {
     "base_uri": "https://localhost:8080/"
    },
    "id": "yTVXq-fH9WMz",
    "outputId": "40e21a86-88cd-4c29-f4a5-7327cb31c4f5"
   },
   "outputs": [
    {
     "data": {
      "text/plain": [
       "65536"
      ]
     },
     "execution_count": 12,
     "metadata": {
      "tags": []
     },
     "output_type": "execute_result"
    }
   ],
   "source": [
    "4**8"
   ]
  },
  {
   "cell_type": "markdown",
   "metadata": {
    "id": "BDOxUKpjtRHy"
   },
   "source": [
    "Check if the variable `foo` is None:"
   ]
  },
  {
   "cell_type": "code",
   "execution_count": null,
   "metadata": {
    "colab": {
     "base_uri": "https://localhost:8080/"
    },
    "id": "1KIB_tlwtRH0",
    "outputId": "9f8c6f33-97a8-4785-a94c-3ac752c5f1c2"
   },
   "outputs": [
    {
     "data": {
      "text/plain": [
       "True"
      ]
     },
     "execution_count": 13,
     "metadata": {
      "tags": []
     },
     "output_type": "execute_result"
    }
   ],
   "source": [
    "foo = None\n",
    "foo == None"
   ]
  },
  {
   "cell_type": "markdown",
   "metadata": {
    "id": "t1lgdo-BtRH-"
   },
   "source": [
    "## 2. Variables and Collections\n",
    "Same as before, read the corresponding section, and answer the questions below.\n",
    "\n",
    "Now you're asked to `print` your results instead of just output them.\n",
    "\n",
    "Please always remember that there is a difference between the output of your code (which is the result of the last executed line) and the printed output."
   ]
  },
  {
   "cell_type": "code",
   "execution_count": null,
   "metadata": {
    "colab": {
     "base_uri": "https://localhost:8080/"
    },
    "id": "C5pnxUkm9WM1",
    "outputId": "fb2857a3-2c89-4f92-c383-5dabaf01e74e"
   },
   "outputs": [
    {
     "name": "stdout",
     "output_type": "stream",
     "text": [
      "This is a text\n",
      "This is a text\n",
      "This is another text\n"
     ]
    }
   ],
   "source": [
    "txt = \"This is a text\"\n",
    "print(txt)\n",
    "new_txt = \"This is another text\" # assignment doesn't return anything\n",
    "print(txt) # return the value of txt\n",
    "print(new_txt) # return the value of new_txt"
   ]
  },
  {
   "cell_type": "code",
   "execution_count": null,
   "metadata": {
    "colab": {
     "base_uri": "https://localhost:8080/"
    },
    "id": "4HRJAJZTtRH_",
    "outputId": "06c65823-f1b4-4a28-ca2f-ed4f3c417d96"
   },
   "outputs": [
    {
     "name": "stdout",
     "output_type": "stream",
     "text": [
      "16.18\n"
     ]
    }
   ],
   "source": [
    "# Declare a variable containing a float of your choice and print it\n",
    "# From now on, when you will be asked to print something, please use the print statement.\n",
    "my_var = 16.18\n",
    "print(v)"
   ]
  },
  {
   "cell_type": "code",
   "execution_count": null,
   "metadata": {
    "colab": {
     "base_uri": "https://localhost:8080/"
    },
    "id": "baIJHJcytRIF",
    "outputId": "16ab9f2b-03a9-4ab7-95e1-0ff472b9e4dd"
   },
   "outputs": [
    {
     "name": "stdout",
     "output_type": "stream",
     "text": [
      "['a', 'b', 'abc', 'newstring', 16]\n"
     ]
    }
   ],
   "source": [
    "# Create a list containing strings and store it in a variable\n",
    "my_list = [\"a\", \"b\", \"abc\"]\n",
    "# Append a new string to this list\n",
    "my_list.append(\"newstring\")\n",
    "# Append an integer to this list and print it\n",
    "my_list.append(16)\n",
    "print(my_list)"
   ]
  },
  {
   "cell_type": "markdown",
   "metadata": {
    "id": "JvyO8q5AtRIM"
   },
   "source": [
    "Note that the modifications on list objects are performed inplace, i.e.\n",
    "\n",
    "    li = [1, 2, 3]\n",
    "    li.append(4)\n",
    "    li  # => [1, 2, 3, 4]"
   ]
  },
  {
   "cell_type": "code",
   "execution_count": null,
   "metadata": {
    "colab": {
     "base_uri": "https://localhost:8080/"
    },
    "id": "aY3ZCgaKtRIO",
    "outputId": "860ec3e9-6129-4902-8441-ec36af9035b6"
   },
   "outputs": [
    {
     "name": "stdout",
     "output_type": "stream",
     "text": [
      "['a', 'b', 'abc', 'newstring']\n"
     ]
    }
   ],
   "source": [
    "# Mixing types inside a list object can be a bad idea depending on the situation.\n",
    "# Remove the integer you just inserted in the list and print it\n",
    "my_list.remove(16)\n",
    "print(my_list)"
   ]
  },
  {
   "cell_type": "code",
   "execution_count": null,
   "metadata": {
    "colab": {
     "base_uri": "https://localhost:8080/"
    },
    "id": "ZZj4QAb7tRIU",
    "outputId": "c0d11524-b2c3-4709-db1b-0c85f8903044"
   },
   "outputs": [
    {
     "name": "stdout",
     "output_type": "stream",
     "text": [
      "b\n"
     ]
    }
   ],
   "source": [
    "# Print the second element of the list\n",
    "print(my_list[1])"
   ]
  },
  {
   "cell_type": "code",
   "execution_count": null,
   "metadata": {
    "colab": {
     "base_uri": "https://localhost:8080/"
    },
    "id": "2ClDflMW9WM2",
    "outputId": "1b6acfe3-f4d5-4198-bb6c-3a9773bd421b"
   },
   "outputs": [
    {
     "name": "stdout",
     "output_type": "stream",
     "text": [
      "42.57\n",
      "42.56\n"
     ]
    }
   ],
   "source": [
    "x = 42.567\n",
    "# Print x with only two decimal (rounding)\n",
    "print(round(x,2))\n",
    "# Print x with only two decimal (trunking)\n",
    "print(str(x)[:5])"
   ]
  },
  {
   "cell_type": "markdown",
   "metadata": {
    "id": "_RKnEw4KtRIa"
   },
   "source": [
    "You can access list elements in reverse order, e.g.\n",
    "\n",
    "    li[-1]  # returns the last element of the list\n",
    "    li[-2]  # returns the second last element of the list\n",
    "    \n",
    "and so on..."
   ]
  },
  {
   "cell_type": "code",
   "execution_count": null,
   "metadata": {
    "colab": {
     "base_uri": "https://localhost:8080/"
    },
    "id": "X15yEiSotRId",
    "outputId": "967a8a77-eb65-4a48-b6c4-7c40303a76b4"
   },
   "outputs": [
    {
     "name": "stdout",
     "output_type": "stream",
     "text": [
      "['a', 'b', 'abc', 'newstring', 'We', 'are', 'the', 'knights', 'who', 'say', 'Ni', '!']\n"
     ]
    }
   ],
   "source": [
    "# Extend your list with new_list and print it\n",
    "new_list = [\"We\", \"are\", \"the\", \"knights\", \"who\", \"say\", \"Ni\", \"!\"]\n",
    "my_new_list = my_list + new_list\n",
    "print(my_new_list)"
   ]
  },
  {
   "cell_type": "code",
   "execution_count": null,
   "metadata": {
    "colab": {
     "base_uri": "https://localhost:8080/"
    },
    "id": "i3k7EDdAtRIi",
    "outputId": "a64d574d-9f55-430d-fcf4-639cb1bb1663"
   },
   "outputs": [
    {
     "name": "stdout",
     "output_type": "stream",
     "text": [
      "['a', 'b', 'abc', 'newstring', 'We', 'are', 'the', 'knights', 'who', 'say', 'Ekke Ekke Ekke Ekke Ptang Zoo Boing', '!']\n"
     ]
    }
   ],
   "source": [
    "# Replace \"Ni\" by \"Ekke Ekke Ekke Ekke Ptang Zoo Boing\" in the list and print it\n",
    "my_new_list[my_new_list.index('Ni')] = 'Ekke Ekke Ekke Ekke Ptang Zoo Boing'\n",
    "print(my_new_list)"
   ]
  },
  {
   "cell_type": "code",
   "execution_count": null,
   "metadata": {
    "colab": {
     "base_uri": "https://localhost:8080/"
    },
    "id": "2HoKEtETtRIn",
    "outputId": "245c096c-8e11-49e5-8f13-e035beb1723a"
   },
   "outputs": [
    {
     "name": "stdout",
     "output_type": "stream",
     "text": [
      "12\n"
     ]
    }
   ],
   "source": [
    "# Compute the length of the list and print it\n",
    "mnl_len = len(my_new_list)\n",
    "print(mnl_len)"
   ]
  },
  {
   "cell_type": "code",
   "execution_count": null,
   "metadata": {
    "id": "2ZziFC0QtRIt"
   },
   "outputs": [],
   "source": [
    "# What is the difference between lists and tuples?\n",
    "\"\"\"\n",
    "Lists are mutable while tuples are immutable ; i.e. cannot access and modify elements of the latter.\n",
    "\"\"\""
   ]
  },
  {
   "cell_type": "code",
   "execution_count": null,
   "metadata": {
    "colab": {
     "base_uri": "https://localhost:8080/"
    },
    "id": "B2zRHa3atRIx",
    "outputId": "22eaf069-bf7f-4240-b64e-b303c0953fe5"
   },
   "outputs": [
    {
     "name": "stdout",
     "output_type": "stream",
     "text": [
      "{'four': 4, 'three': 3, 'five': 5, 'two': 2, 'one': 1}\n"
     ]
    }
   ],
   "source": [
    "# Create a dictionary containing the following mapping:\n",
    "# \"one\" : 1\n",
    "# \"two\" : 2\n",
    "# etc. until you reach \"five\" : 5\n",
    "baz = {\n",
    "    \"one\" : 1,\n",
    "    \"two\" : 2,\n",
    "    \"three\" : 3,\n",
    "    \"four\" : 4,\n",
    "    \"five\" : 5\n",
    "}"
   ]
  },
  {
   "cell_type": "code",
   "execution_count": null,
   "metadata": {
    "colab": {
     "base_uri": "https://localhost:8080/"
    },
    "id": "c_Y6qcpUtRI3",
    "outputId": "719aa39b-5d44-4f47-9044-179431f68d14"
   },
   "outputs": [
    {
     "name": "stdout",
     "output_type": "stream",
     "text": [
      "True\n",
      "4\n"
     ]
    }
   ],
   "source": [
    "# Check if the key \"four\" is contained in the dict\n",
    "# If four is contained in the dict, print the associated value\n",
    "print('four' in baz)\n",
    "print(baz[\"four\"])"
   ]
  },
  {
   "cell_type": "code",
   "execution_count": null,
   "metadata": {
    "colab": {
     "base_uri": "https://localhost:8080/"
    },
    "id": "ECwOx4TJtRI9",
    "outputId": "18f40acd-480d-49e6-bf5e-d439ab15944f"
   },
   "outputs": [
    {
     "name": "stdout",
     "output_type": "stream",
     "text": [
      "set(['e', 'g', 'f', 'i', 'h', 'j', 'l', 'o', 'n', 'q', 'p', 's', 'r', 'u', 'v'])\n"
     ]
    }
   ],
   "source": [
    "gibberish = list(\"fqfgsrhrfeqluihjgrshioprqoqeionfvnorfiqeo\")\n",
    "# Find all the unique letters contained in gibberish. Your answer should fit in one line of code\n",
    "unique_letters = set(gibberish)\n",
    "print(unique_letters)"
   ]
  },
  {
   "cell_type": "markdown",
   "metadata": {
    "id": "P7yBADultRJC"
   },
   "source": [
    "You should now be able to answer the following problem using dictionaries, lists and sets. Imagine you owe money to your friends because your forgot your credit card last time you went out for drinks. You want to remember how much you owe to each of them in order to refund them later. Which data structure would be useful to store this information? Use this data structure and fill it in with some debt data in the cell below:"
   ]
  },
  {
   "cell_type": "code",
   "execution_count": null,
   "metadata": {
    "id": "suyHVgJjtRJD"
   },
   "outputs": [],
   "source": [
    "debts = {\r\n",
    "    \"Asterix\" : 5,\r\n",
    "    \"Obelix\" : 10\r\n",
    "}"
   ]
  },
  {
   "cell_type": "markdown",
   "metadata": {
    "id": "mQQSVcCHtRJI"
   },
   "source": [
    "Another party night with more people, yet you forgot your credit card again... You meet new friends who buy you drinks. Create another data structure as above with different data, i.e. include friends that were not here during the first party and new friends."
   ]
  },
  {
   "cell_type": "code",
   "execution_count": null,
   "metadata": {
    "id": "_cjYLMvEtRJK"
   },
   "outputs": [],
   "source": [
    "debts_2 = {\r\n",
    "    \"Asterix\" : 12,\r\n",
    "    \"Panoramix\" : 3,\r\n",
    "    \"Assurancetourix\" : 106 \r\n",
    "}"
   ]
  },
  {
   "cell_type": "markdown",
   "metadata": {
    "id": "Li3vPIN7tRJP"
   },
   "source": [
    "Count the number of new friends you made that second night. Print the name of the friends who bought you drinks during the second party, but not during the first."
   ]
  },
  {
   "cell_type": "code",
   "execution_count": null,
   "metadata": {
    "colab": {
     "base_uri": "https://localhost:8080/"
    },
    "id": "1Rx2ix10tRJQ",
    "outputId": "811df1ad-fd2b-4a32-ef2f-7500024ea1ba"
   },
   "outputs": [
    {
     "name": "stdout",
     "output_type": "stream",
     "text": [
      "set(['Assurancetourix', 'Panoramix'])\n",
      "2\n"
     ]
    }
   ],
   "source": [
    "new_friends = set(debts_2) - set(debts) # should fit in one line\n",
    "nb_new_friends = len(new_friends) # should fit in one line\n",
    "print(new_friends)\n",
    "print(nb_new_friends)"
   ]
  },
  {
   "cell_type": "markdown",
   "metadata": {
    "id": "fRqhthIttRJU"
   },
   "source": [
    "## 3. Control flow\n",
    "Same as before, read the corresponding section, and answer the questions below.\n",
    "You can skip the paragraph on exceptions for now."
   ]
  },
  {
   "cell_type": "code",
   "execution_count": null,
   "metadata": {
    "colab": {
     "base_uri": "https://localhost:8080/"
    },
    "id": "SZIDKiAntRJW",
    "outputId": "f5a8578b-0aaa-43a4-9e4a-9994ce4d4716"
   },
   "outputs": [
    {
     "name": "stdout",
     "output_type": "stream",
     "text": [
      "Duh...\n"
     ]
    }
   ],
   "source": [
    "# Code the following:\n",
    "# if you have made more than 5 friends that second night, \n",
    "# print \"Yay! I'm super popular!\", else, print \"Duh...\"\n",
    "if nb_new_friends > 5 :\n",
    "  print(\"Yay! I'm super popular!\")\n",
    "else :\n",
    "  print(\"Duh...\")"
   ]
  },
  {
   "cell_type": "code",
   "execution_count": null,
   "metadata": {
    "colab": {
     "base_uri": "https://localhost:8080/"
    },
    "id": "x1KK30CWtRJa",
    "outputId": "8bdd6218-66d4-4029-885c-984937ce8e28"
   },
   "outputs": [
    {
     "name": "stdout",
     "output_type": "stream",
     "text": [
      "Thanks Assurancetourix!\n",
      "Thanks Panoramix!\n"
     ]
    }
   ],
   "source": [
    "# Now, thank each new friend iteratively, i.e.\n",
    "# print \"Thanks <name of the friend>!\" using loops and string formatting (cf. section 1)\n",
    "for friends in new_friends :\n",
    "  print(\"Thanks \" + friends + \"!\")"
   ]
  },
  {
   "cell_type": "code",
   "execution_count": null,
   "metadata": {
    "colab": {
     "base_uri": "https://localhost:8080/"
    },
    "id": "iNOfoXTJtRJd",
    "outputId": "6da19005-a167-4822-e5ae-32f3958e19db"
   },
   "outputs": [
    {
     "name": "stdout",
     "output_type": "stream",
     "text": [
      "120\n"
     ]
    }
   ],
   "source": [
    "# Sum all the number from 0 to 15 (included) using what we've seen so far (i.e. without the function sum() )\n",
    "sum_to_fifteen = 0\n",
    "for i in range(15+1):\n",
    "  sum_to_fifteen = sum_to_fifteen + i\n",
    "print(sum_to_fifteen)"
   ]
  },
  {
   "cell_type": "code",
   "execution_count": null,
   "metadata": {
    "colab": {
     "base_uri": "https://localhost:8080/"
    },
    "id": "hNXGkNgitRJh",
    "outputId": "0f79625b-1772-4342-d9ef-6a0e6940a5ab"
   },
   "outputs": [
    {
     "name": "stdout",
     "output_type": "stream",
     "text": [
      "0\n",
      "1\n",
      "2\n"
     ]
    }
   ],
   "source": [
    "# Note: you can break a loop with the break statement\n",
    "for i in range(136):\n",
    "    print i\n",
    "    if i >= 2:\n",
    "        break"
   ]
  },
  {
   "cell_type": "code",
   "execution_count": null,
   "metadata": {
    "colab": {
     "base_uri": "https://localhost:8080/"
    },
    "id": "1nZB8pMltRJm",
    "outputId": "8bb992ca-412a-42d2-8cb7-cb8d7bc3a2af"
   },
   "outputs": [
    {
     "name": "stdout",
     "output_type": "stream",
     "text": [
      "('a', 0)\n",
      "('b', 1)\n",
      "('c', 2)\n"
     ]
    }
   ],
   "source": [
    "# enumerate function can be very useful when dealing with iterators:\n",
    "for i, value in enumerate([\"a\", \"b\", \"c\"]):\n",
    "    print(value, i)"
   ]
  },
  {
   "cell_type": "markdown",
   "metadata": {
    "id": "rSpPZ8q0tRJq"
   },
   "source": [
    "## 4. Functions\n",
    "Things are becoming more interesting. Read section 4. It's ok if you don't get the args/kwargs part. Be sure to understand basic function declaration and anonymous function declaration. Higher order functions, maps, and filters will be covered during the next lab.\n",
    "\n",
    "Write a Python function that checks whether a passed string is palindrome or not. Note: a palindrome is a word, phrase, or sequence that reads the same backward and forward, e.g. \"madam\" or \"nurses run\". Hint: strings are lists of characters e.g.\n",
    "\n",
    "    a = \"abcdef\"\n",
    "    a[2] => c\n",
    "    \n",
    "If needed, here are [some tips about string manipulation](http://www.pythonforbeginners.com/basics/string-manipulation-in-python)."
   ]
  },
  {
   "cell_type": "code",
   "execution_count": null,
   "metadata": {
    "colab": {
     "base_uri": "https://localhost:8080/"
    },
    "id": "lSa99mbptRJr",
    "outputId": "66a54dfb-fa9f-4cd3-abe9-e4cd7b74531a"
   },
   "outputs": [
    {
     "name": "stdout",
     "output_type": "stream",
     "text": [
      "True\n",
      "True\n",
      "False\n"
     ]
    }
   ],
   "source": [
    "def isPalindrome(string_input):\n",
    "    string_input = string_input.replace(\" \", \"\") # remove spaces\n",
    "    rev = string_input[::-1]\n",
    "    if rev == string_input :\n",
    "      return(\"True\")\n",
    "    else :\n",
    "      return(\"False\")\n",
    "\n",
    "print(isPalindrome('aza'))        # Simple palindrome\n",
    "print(isPalindrome('nurses run')) # Palindrome containing a space\n",
    "print(isPalindrome('palindrome')) # Not a palindrome"
   ]
  },
  {
   "cell_type": "markdown",
   "metadata": {
    "id": "zB9qsMDJtRJv"
   },
   "source": [
    "Write a Python function to check whether a string is pangram or not. Note: pangrams are words or sentences containing every letter of the alphabet at least once. For example: \"The quick brown fox jumps over the lazy dog\".\n",
    "\n",
    "[Hint](https://docs.python.org/2/library/stdtypes.html#set-types-set-frozenset)"
   ]
  },
  {
   "cell_type": "code",
   "execution_count": null,
   "metadata": {
    "colab": {
     "base_uri": "https://localhost:8080/"
    },
    "id": "klw8o3FDtRJx",
    "outputId": "223694a9-aec4-4019-a014-ee5ba9af6ea0"
   },
   "outputs": [
    {
     "name": "stdout",
     "output_type": "stream",
     "text": [
      "True\n",
      "False\n"
     ]
    }
   ],
   "source": [
    "import string\n",
    "\n",
    "# In this function, \"alphabet\" argument has a default value: string.ascii_lowercase\n",
    "# string.ascii_lowercase contains all the letters in lowercase.\n",
    "def ispangram(string_input, alphabet=string.ascii_lowercase): \n",
    "  if set(string_input) >= set(alphabet) :\n",
    "    return(\"True\")\n",
    "  else :\n",
    "    return(\"False\")\n",
    "   \n",
    "print(ispangram('The quick brown fox jumps over the lazy dog'))\n",
    "print(ispangram('The quick red fox jumps over the lazy dog'))"
   ]
  },
  {
   "cell_type": "markdown",
   "metadata": {
    "id": "hIXo-hJ_tRJ0"
   },
   "source": [
    "### Python lambda expressions\n",
    "\n",
    "When evaluated, lambda expressions return an anonymous function, i.e. a function that is not bound to any variable (hence the \"anonymous\"). However, it is possible to assign the function to a variable. Lambda expressions are particularly useful when you need to pass a simple function into another function. To create lambda functions, we use the following syntax\n",
    "\n",
    "    lambda argument1, argument2, argument3, etc. : body_of_the_function\n",
    "\n",
    "For example, a function which takes a number and returns its square would be\n",
    "\n",
    "    lambda x: x**2\n",
    "    \n",
    "A function that takes two numbers and returns their sum:\n",
    "\n",
    "    lambda x, y: x + y\n",
    "    \n",
    "`lambda` generates a function and returns it, while `def` generates a function and assigns it to a name.  The function returned by `lambda` also automatically returns the value of its expression statement, which reduces the amount of code that needs to be written.\n",
    "\n",
    "Here are some additional references that explain lambdas: [Lambda Functions](http://www.secnetix.de/olli/Python/lambda_functions.hawk), [Lambda Tutorial](https://pythonconquerstheuniverse.wordpress.com/2011/08/29/lambda_tutorial/), and [Python Functions](http://www.bogotobogo.com/python/python_functions_lambda.php).\n",
    "\n",
    "Here is an example:"
   ]
  },
  {
   "cell_type": "code",
   "execution_count": null,
   "metadata": {
    "id": "Qag42QL7tRJ1"
   },
   "outputs": [],
   "source": [
    "# Function declaration using def\n",
    "def add_s(x):\n",
    "    return x + 's'\n",
    "\n",
    "print type(add_s)\n",
    "print add_s\n",
    "print add_s('dog')"
   ]
  },
  {
   "cell_type": "code",
   "execution_count": null,
   "metadata": {
    "id": "6MVqBJDXtRJ4"
   },
   "outputs": [],
   "source": [
    "# Same function declared as a lambda\n",
    "add_s_lambda = lambda x: x + 's'\n",
    "print type(add_s_lambda)\n",
    "print add_s_lambda  # Note that the function shows its name as <lambda>\n",
    "print add_s_lambda('dog')"
   ]
  },
  {
   "cell_type": "code",
   "execution_count": null,
   "metadata": {
    "colab": {
     "base_uri": "https://localhost:8080/"
    },
    "id": "mOp4Ju79tRJ8",
    "outputId": "f7cbf643-4391-46fa-d227-614fd771a5da"
   },
   "outputs": [
    {
     "name": "stdout",
     "output_type": "stream",
     "text": [
      "10\n",
      "True\n"
     ]
    }
   ],
   "source": [
    "# Code a function using a lambda expression which takes\n",
    "# a number and returns this number multiplied by two.\n",
    "multiply_by_two = lambda x : 2*x\n",
    "print multiply_by_two(5)\n",
    "\n",
    "print(multiply_by_two(10) == 20)"
   ]
  },
  {
   "cell_type": "markdown",
   "metadata": {
    "id": "nJlViCP6tRKI"
   },
   "source": [
    "Observe the behavior of the following code:"
   ]
  },
  {
   "cell_type": "code",
   "execution_count": null,
   "metadata": {
    "colab": {
     "base_uri": "https://localhost:8080/"
    },
    "id": "BaBVXHRftRKJ",
    "outputId": "d1a496ec-e3d8-4982-f26e-da4bded900df"
   },
   "outputs": [
    {
     "name": "stdout",
     "output_type": "stream",
     "text": [
      "3\n",
      "1\n"
     ]
    }
   ],
   "source": [
    "def add(x, y):\n",
    "    return(x+y)\n",
    "\n",
    "def sub(x, y):\n",
    "    return(y-x)\n",
    "\n",
    "functions = [add, sub]\n",
    "print(functions[0](1, 2))\n",
    "print(functions[1](3, 4))"
   ]
  },
  {
   "cell_type": "markdown",
   "metadata": {
    "id": "3ULfcjzvtRKM"
   },
   "source": [
    "Code the same functionality, using lambda expressions:"
   ]
  },
  {
   "cell_type": "code",
   "execution_count": null,
   "metadata": {
    "colab": {
     "base_uri": "https://localhost:8080/"
    },
    "id": "kyrrjXjptRKN",
    "outputId": "e7cd9d28-e0ed-446d-c4f6-54f64eddba3f"
   },
   "outputs": [
    {
     "name": "stdout",
     "output_type": "stream",
     "text": [
      "True\n",
      "False\n"
     ]
    }
   ],
   "source": [
    "lambda_functions = [lambda x,y : x+y ,  lambda x,y : y-x]\n",
    "\n",
    "print(lambda_functions[0](1, 2) == 3)\n",
    "print(lambda_functions[1](3, 4) == -1)"
   ]
  },
  {
   "cell_type": "markdown",
   "metadata": {
    "id": "ED1XVrZxtRKR"
   },
   "source": [
    "Lambda expressions can be used to generate functions that take in zero or more parameters. The syntax for `lambda` allows for multiple ways to define the same function.  For example, we might want to create a function that takes in a single parameter, where the parameter is a tuple consisting of two values, and the function adds the two values.  The syntax could be either \n",
    "\n",
    "    lambda x: x[0] + x[1]\n",
    "    \n",
    "or \n",
    "    \n",
    "    lambda (x, y): x + y\n",
    "\n",
    "If we called either function on the tuple `(1, 2)` it would return `3`."
   ]
  },
  {
   "cell_type": "code",
   "execution_count": null,
   "metadata": {
    "colab": {
     "base_uri": "https://localhost:8080/"
    },
    "id": "zrOgOMZG9WM_",
    "outputId": "1cd756af-eb52-4a85-d73d-cc6fbb8782ac"
   },
   "outputs": [
    {
     "name": "stdout",
     "output_type": "stream",
     "text": [
      "add_two_1((1,2), (3,4)) = (4, 6)\n",
      "add_two_2((1,2), (3,4)) = (4, 6)\n"
     ]
    }
   ],
   "source": [
    "# Example:\n",
    "add_two_1 = lambda x, y: (x[0] + y[0], x[1] + y[1])\n",
    "add_two_2 = lambda (x0, x1), (y0, y1): (x0 + y0, x1 + y1)\n",
    "print('add_two_1((1,2), (3,4)) = {0}'.format(add_two_1((1,2), (3,4))))\n",
    "print('add_two_2((1,2), (3,4)) = {0}'.format(add_two_2((1,2), (3,4))))"
   ]
  },
  {
   "cell_type": "code",
   "execution_count": null,
   "metadata": {
    "colab": {
     "base_uri": "https://localhost:8080/"
    },
    "id": "GDn7Z7dstRKV",
    "outputId": "edea9e6c-8a70-4301-8805-61c204b1d93f"
   },
   "outputs": [
    {
     "name": "stdout",
     "output_type": "stream",
     "text": [
      "True\n",
      "True\n"
     ]
    }
   ],
   "source": [
    "# Use both syntaxes to create a function that takes in a tuple of three values and reverses their order\n",
    "# E.g. (1, 2, 3) => (3, 2, 1)\n",
    "reverse1 = lambda x: (x[2], x[1], x[0])\n",
    "reverse2 = lambda (x0, x1, x2): (x2, x1, x0)\n",
    "\n",
    "print(reverse1((1, 2, 3)) == (3, 2, 1))\n",
    "print(reverse2((1, 2, 3)) == (3, 2, 1))"
   ]
  },
  {
   "cell_type": "markdown",
   "metadata": {
    "id": "GuRsJH2btRKY"
   },
   "source": [
    "Lambda expressions allow you to reduce the size of your code, but they are limited to simple logic. The following Python keywords refer to statements that cannot be used in a lambda expression: `assert`, `pass`, `del`, `print`, `return`, `yield`, `raise`, `break`, `continue`, `import`, `global`, and `exec`.  Assignment statements (`=`) and augmented assignment statements (e.g. `+=`) cannot be used either. If more complex logic is necessary, use `def` in place of `lambda`."
   ]
  },
  {
   "cell_type": "markdown",
   "metadata": {
    "id": "C8oYTUJDtRKZ"
   },
   "source": [
    "## 5. Classes\n",
    "Classes allow you to create objects. Object Oriented Programming (OOP) can be a very powerful paradigm. If done well, OOP  allows you to improve the modularity and reusability of your code, but that's the subject of an entire other course. \n",
    "Here is a *very* short introduction to it.\n",
    "\n",
    "By convention, class names are written in camel case, e.g. `MyBeautifulClass`, while variable and function names are written in snake case, e.g. `my_variable`, `my_very_complex_function`\n",
    "\n",
    "Classes contain methods (i.e. functions owned by the class) and attributes (i.e. variables owned by the class). \n",
    "When you define a class, first thing to do is to define a specific method, the constructor. In Python, the constructor is called `__init__`. This method is used to create the instances of an object. Example:\n",
    "\n",
    "    class MyClass:\n",
    "    \n",
    "        def __init__(self, first_attribute, second_attribute):\n",
    "            self.first_attribute = first_attribute\n",
    "            self.second_attribute = second_attribute\n",
    "            \n",
    "This class has two attributes, and one (hidden) method, the constructor. To create an instance of this class, one simply does:\n",
    "\n",
    "    instance_example = MyClass(1, \"foo\")\n",
    "    \n",
    "Then, the attributes can easily be accessed to:\n",
    "\n",
    "    instance_example.first_attribute  # => 1\n",
    "    instance_example.first_attribute  # => \"foo\""
   ]
  },
  {
   "cell_type": "code",
   "execution_count": null,
   "metadata": {
    "colab": {
     "base_uri": "https://localhost:8080/"
    },
    "id": "keBR9vgQtRKc",
    "outputId": "7f778251-f956-4be1-e079-a0dbf3191e6f"
   },
   "outputs": [
    {
     "name": "stdout",
     "output_type": "stream",
     "text": [
      "1\n",
      "3\n"
     ]
    }
   ],
   "source": [
    "# Run this example\n",
    "class MyClass:\n",
    "    \n",
    "    def __init__(self, first_attribute, second_attribute):\n",
    "        self.first_attribute = first_attribute\n",
    "        self.second_attribute = second_attribute\n",
    "            \n",
    "instance_example = MyClass(1, \"foo\") \n",
    "print(instance_example.first_attribute)\n",
    "instance_example.__init__(3,4)  # In real life, it is rare to reinit an object.\n",
    "print(instance_example.first_attribute)"
   ]
  },
  {
   "cell_type": "markdown",
   "metadata": {
    "id": "8AO18Rz7tRKf"
   },
   "source": [
    "`self` denotes the object itself. When you declare a method, you have to pass `self` as the first argument of the method:\n",
    "\n",
    "class MyClass:\n",
    "    \n",
    "    def __init__(self, first_attribute, second_attribute):\n",
    "        self.first_attribute = first_attribute\n",
    "        self.second_attribute = second_attribute\n",
    "   \n",
    "    def method_baz(self):\n",
    "        print \"Hello! I'm a method! I have two attributes, initialized with values %s, %s\"%(self.first_attribute, self.second_attribute)\n",
    "        \n",
    "indeed, when we call\n",
    "    \n",
    "    instance_example = MyClass(1, \"foo\") \n",
    "    instance_example.method_baz()\n",
    "    \n",
    "the `self` object is implicitely passed to `method_baz`as an argument. Think of the method call as the following function call\n",
    "\n",
    "    method_baz(instance_example)"
   ]
  },
  {
   "cell_type": "code",
   "execution_count": null,
   "metadata": {
    "colab": {
     "base_uri": "https://localhost:8080/"
    },
    "id": "oZde0pPntRKg",
    "outputId": "0bb8e166-f52f-46af-a798-15d0468afe0d"
   },
   "outputs": [
    {
     "name": "stdout",
     "output_type": "stream",
     "text": [
      "Hello! I'm a method! My class has two attributes, of value 1, foo\n"
     ]
    }
   ],
   "source": [
    "# Run this example\n",
    "class MyClass:\n",
    "    \n",
    "    def __init__(self, first_attribute, second_attribute):\n",
    "        self.first_attribute = first_attribute\n",
    "        self.second_attribute = second_attribute\n",
    "    \n",
    "    def class_method(self):\n",
    "        print(\"Hello! I'm a method! My class has two attributes, of value {0}, {1}\".format(self.first_attribute, self.second_attribute))\n",
    "            \n",
    "instance_example = MyClass(1, \"foo\") \n",
    "# Call to a class method\n",
    "instance_example.class_method()"
   ]
  },
  {
   "cell_type": "markdown",
   "metadata": {
    "id": "fLUmPnKntRKo"
   },
   "source": [
    "Now, the tricky part. You can declare **static** methods, i.e. methods that don't need to access the data contained in `self` to work properly. Such methods do not require the `self` argument as they do not use any instance data. They are implemented in the following way:"
   ]
  },
  {
   "cell_type": "code",
   "execution_count": null,
   "metadata": {
    "colab": {
     "base_uri": "https://localhost:8080/"
    },
    "id": "ZfkEAQbGtRKp",
    "outputId": "1f399974-dcef-472a-a87e-5f6c454a361d"
   },
   "outputs": [
    {
     "name": "stdout",
     "output_type": "stream",
     "text": [
      "Hello! I'm a method! My class has two attributes, of value 1, foo\n",
      "I'm a static method!\n"
     ]
    }
   ],
   "source": [
    "# Run this example\n",
    "class MyClass:\n",
    "    \n",
    "    def __init__(self, first_attribute, second_attribute):\n",
    "        self.first_attribute = first_attribute\n",
    "        self.second_attribute = second_attribute\n",
    "    \n",
    "    def class_method(self):\n",
    "        print(\"Hello! I'm a method! My class has two attributes, of value {0}, {1}\".format(self.first_attribute, self.second_attribute))\n",
    "         \n",
    "    @staticmethod\n",
    "    def static_method():\n",
    "        print(\"I'm a static method!\")\n",
    "            \n",
    "instance_example = MyClass(1, \"foo\") \n",
    "# Call to a class method\n",
    "instance_example.class_method()\n",
    "# Call to a static method\n",
    "instance_example.static_method()"
   ]
  },
  {
   "cell_type": "code",
   "execution_count": null,
   "metadata": {
    "colab": {
     "base_uri": "https://localhost:8080/"
    },
    "id": "kjsCfutptRKu",
    "outputId": "982aa887-1637-403b-b612-3f3d69548fe0"
   },
   "outputs": [
    {
     "name": "stdout",
     "output_type": "stream",
     "text": [
      "I'm a static method!\n"
     ]
    }
   ],
   "source": [
    "# Call to a static method without class instanciation\n",
    "MyClass.static_method()"
   ]
  },
  {
   "cell_type": "code",
   "execution_count": null,
   "metadata": {
    "id": "WjIceCletRKy"
   },
   "outputs": [],
   "source": [
    "# Call to a class method without class instanciation: raises an error\n",
    "# MyClass.class_method()\n",
    "# => TypeError: unbound method class_method() must be called with MyClass instance as first argument (got nothing instead)"
   ]
  },
  {
   "cell_type": "markdown",
   "metadata": {
    "id": "WrGtoiEptRK1"
   },
   "source": [
    "You can set attributes without passing them to the constructor:"
   ]
  },
  {
   "cell_type": "code",
   "execution_count": null,
   "metadata": {
    "colab": {
     "base_uri": "https://localhost:8080/"
    },
    "id": "1EtLi3gRtRK2",
    "outputId": "80658a54-aa06-49c2-d28c-ba75e54f92a2"
   },
   "outputs": [
    {
     "name": "stdout",
     "output_type": "stream",
     "text": [
      "42\n"
     ]
    }
   ],
   "source": [
    "# Run this example\n",
    "class MyClass:\n",
    "    \n",
    "    default_attribute = 42\n",
    "    \n",
    "    def __init__(self, first_attribute, second_attribute):\n",
    "        self.first_attribute = first_attribute\n",
    "        self.second_attribute = second_attribute\n",
    "    \n",
    "    def method_baz(self):\n",
    "        print(\"Hello! I'm a method! I have two attributes, initialized with values %s, %s\"%(self.first_attribute, self.second_attribute))\n",
    "        \n",
    "    @staticmethod\n",
    "    def static_method():\n",
    "        print(\"I'm a static method!\")\n",
    "            \n",
    "instance_example = MyClass(1, \"foo\") \n",
    "print(instance_example.default_attribute)"
   ]
  },
  {
   "cell_type": "code",
   "execution_count": null,
   "metadata": {
    "colab": {
     "base_uri": "https://localhost:8080/"
    },
    "id": "9f2LfrfEtRK6",
    "outputId": "4d0c35ec-e54f-42ff-f4f9-afac4860d662"
   },
   "outputs": [
    {
     "name": "stdout",
     "output_type": "stream",
     "text": [
      "True\n",
      "True\n",
      "True\n",
      "True\n"
     ]
    }
   ],
   "source": [
    "# Write a Python class named Rectangle which is \n",
    "# constructed by a length and width \n",
    "# and has two class methods\n",
    "# - \"rectange_area\", which computes the area of a rectangle.\n",
    "# - \"rectangle_perimeter\", which computes the perimeter of a rectangle.\n",
    "#\n",
    "# The Rectangle class should have an attribute n_edges equal to 4\n",
    "# which should not be initialized by the __init__ constructor.\n",
    "#\n",
    "# Declare a static method \"talk\" that returns \"Do you like rectangles?\" when called\n",
    "\n",
    "class Rectangle: \n",
    "    \n",
    "    def __init__(self, length, width):\n",
    "        self.length = length\n",
    "        self.width  = width\n",
    "\n",
    "    def rectangle_area(self):\n",
    "        return self.length*self.width\n",
    "\n",
    "    def rectangle_perimeter(self) :\n",
    "        return 2*self.length+2*self.width\n",
    "\n",
    "    n_edges = 4\n",
    "\n",
    "    @staticmethod\n",
    "    def talk():\n",
    "        return \"Do you like rectangles?\"\n",
    "\n",
    "\n",
    "new_rectangle = Rectangle(12, 10)\n",
    "print(new_rectangle.rectangle_area() == 120)# rectangle_area method\n",
    "print(new_rectangle.rectangle_perimeter() == 44) # rectangle_area method\n",
    "print(Rectangle.n_edges == 4) # constant attibute\n",
    "print(Rectangle.talk() == \"Do you like rectangles?\") # Rectangle talk static method"
   ]
  },
  {
   "cell_type": "markdown",
   "metadata": {
    "id": "-YW7kJQy9WNE"
   },
   "source": [
    "In machine learning, when you're manipulating large images, you often need to break the diwn into smaller, more manageable images.\n",
    "- Modify the previous rectangle class to include a list of patches.\n",
    "- Write a Python class named Patch which is a square of size 1x1. Each patch should be identified by his coordinates.\n",
    "- Use the [\\_\\_iter\\_\\_](https://www.datacamp.com/community/tutorials/python-iterator-tutorial) function to create a get_next_patch() in the Rectangle class."
   ]
  },
  {
   "cell_type": "code",
   "execution_count": 3,
   "metadata": {
    "colab": {
     "base_uri": "https://localhost:8080/"
    },
    "id": "fqjwKuvR9WNE",
    "outputId": "f0f0a780-e7e6-40e4-8c74-17fb716274df"
   },
   "outputs": [
    {
     "name": "stdout",
     "output_type": "stream",
     "text": [
      "[[(0, 0), (0, 1), (1, 1), (1, 0)], [(0, 1), (0, 2), (1, 2), (1, 1)], [(0, 2), (0, 3), (1, 3), (1, 2)], [(1, 0), (1, 1), (2, 1), (2, 0)], [(1, 1), (1, 2), (2, 2), (2, 1)], [(1, 2), (1, 3), (2, 3), (2, 2)]]\n",
      "[(0, 0), (0, 1), (1, 1), (1, 0)]\n",
      "[(0, 1), (0, 2), (1, 2), (1, 1)]\n",
      "[(0, 2), (0, 3), (1, 3), (1, 2)]\n",
      "[(1, 0), (1, 1), (2, 1), (2, 0)]\n",
      "[(1, 1), (1, 2), (2, 2), (2, 1)]\n",
      "[(1, 2), (1, 3), (2, 3), (2, 2)]\n"
     ]
    }
   ],
   "source": [
    "class Patch :\n",
    "\n",
    "    def __init__(self, coord_x, coord_y):\n",
    "      self.coord_x = coord_x\n",
    "      self.coord_y = coord_y\n",
    "\n",
    "    def coord(self) : # Start from bottom left of the 1x1 square\n",
    "      coord = [(self.coord_x,self.coord_y),\n",
    "                (self.coord_x,self.coord_y+1),\n",
    "                (self.coord_x+1,self.coord_y+1),\n",
    "                (self.coord_x+1,self.coord_y)]\n",
    "      return coord\n",
    "\n",
    "class Rectangle: \n",
    "    \n",
    "    def __init__(self, length, width):\n",
    "        self.length = length\n",
    "        self.width  = width\n",
    "        self.idx = -1\n",
    "\n",
    "    def rectangle_area(self):\n",
    "        return self.length*self.width\n",
    "\n",
    "    def rectangle_perimeter(self) :\n",
    "        return 2*self.length+2*self.width\n",
    "\n",
    "    n_edges = 4\n",
    "\n",
    "    @staticmethod\n",
    "    def talk():\n",
    "        return \"Do you like rectangles?\"\n",
    "\n",
    "    def list_of_patches(self) :\n",
    "      patches = [] # store patches coordinates\n",
    "      for i in range(0, self.length):\n",
    "        for j in range(0, self.width):\n",
    "          patches.append(Patch(i,j).coord()) # call Patch class coord function\n",
    "      return patches\n",
    "\n",
    "    def __iter__(self) : \n",
    "      return self\n",
    "\n",
    "    def __next__(self) : # use only next because Python 2 / Python 3 incompatibility...\n",
    "        self.idx += 1\n",
    "        if self.idx < self.length*self.width :\n",
    "            self.patch = Rectangle(self.length, self.width).list_of_patches()[self.idx]\n",
    "            return self.patch\n",
    "        raise StopIteration\n",
    "\n",
    "print(Rectangle(2,3).list_of_patches())\n",
    "\n",
    "for patch in Rectangle(2, 3):\n",
    "  print(patch)"
   ]
  },
  {
   "cell_type": "markdown",
   "metadata": {
    "id": "zLo1690Jw0au"
   },
   "source": [
    "Use the same approach to create two classes :\n",
    "- Sentence which is a list of words\n",
    "- Word which encapsulate a string with a specific order within the sentence\n",
    "Implement both [\\_\\_str\\_\\_](https://docs.python.org/3/reference/datamodel.html?highlight=__str__#object.__str__) and [\\_\\_repr\\_\\_](https://docs.python.org/3/reference/datamodel.html?highlight=__str__#object.__repr__) for both classes. `__str__` should be readable when `__repr__` should offer you information to helps you debug.\n",
    "In Natural Language Processing you'll use a lot of n-grams (which is the set of *n* sequential words). So you should implement a get_next_bigrams() method in the Sentence class. For instance give the sentence \"My name is Brian\", it should return an element of the list of bigrams ```[\"My name\", \"name is\", \"is Brian\"]```"
   ]
  },
  {
   "cell_type": "code",
   "execution_count": 7,
   "metadata": {
    "colab": {
     "base_uri": "https://localhost:8080/"
    },
    "id": "pS2yJzMV9WNF",
    "outputId": "dfe5cf56-9903-43b5-d890-35471021fc88"
   },
   "outputs": [
    {
     "name": "stdout",
     "output_type": "stream",
     "text": [
      "['This', 'is', 'a', 'test']\n",
      "\"This is a test\".split()\n",
      "I like dog\n",
      "\"I like\".insert(2,dog)\n",
      "['My', 'name']\n",
      "['name', 'is']\n",
      "['is', 'Brian']\n"
     ]
    }
   ],
   "source": [
    "class Sentence :\n",
    "\n",
    "    def __init__(self, sentence):\n",
    "      self.sentence = sentence\n",
    "      self.idx = 0\n",
    "\n",
    "    def __str__(self):\n",
    "      return self.sentence.split()\n",
    "\n",
    "    def __repr__(self):\n",
    "      return '\"{}\".split()'.format(self.sentence)\n",
    "\n",
    "    def __iter__(self) : \n",
    "      return self\n",
    "\n",
    "    def __next__(self) :\n",
    "        self.idx += 1\n",
    "        if self.idx < len(Sentence(self.sentence).__str__()) :\n",
    "            self.bigram = Sentence(self.sentence).__str__()[self.idx-1:self.idx+1]\n",
    "            return self.bigram\n",
    "        raise StopIteration\n",
    "\n",
    "class Word :\n",
    "    def __init__(self, word):\n",
    "      self.word = word\n",
    "\n",
    "    def __str__(self, sentence, position) :\n",
    "      l = Sentence(sentence).__str__()\n",
    "      l.insert(position, self.word) # insert word into list\n",
    "      return ' '.join(l)  # return back sentence\n",
    "\n",
    "    def __repr__(self, sentence, position) :\n",
    "      return '\"{}\".insert({},{})'.format(sentence, position, self.word)\n",
    "\n",
    "print(Sentence(\"This is a test\").__str__())\n",
    "print(Sentence(\"This is a test\").__repr__())\n",
    "\n",
    "print(Word(\"dog\").__str__('I like', 2))\n",
    "print(Word(\"dog\").__repr__('I like', 2))\n",
    "\n",
    "for bigram in Sentence('My name is Brian'):\n",
    "  print(bigram)"
   ]
  },
  {
   "cell_type": "markdown",
   "metadata": {
    "id": "9ZJc_Iu_tRLC"
   },
   "source": [
    "# 6. Modules\n",
    "Finally one really important part of python is the ability to create modules.\n",
    "Read https://docs.python.org/fr/3/tutorial/modules.html and create a module named geo with the classes Rectangle & Patch.\n",
    "Import the ```geo``` module and demonstrate the different calls.\n",
    "\n",
    "Repeat the operation with an ```NLP``` module to encapsulate the classes Sentence and Word.\n",
    "In Natural Language Processing you'll use a lot of n-grams (which is the set of *n* sequential words). So you should implement a ```get_bigrams(sentence)``` method who will return a list of bigrams."
   ]
  },
  {
   "cell_type": "code",
   "execution_count": 4,
   "metadata": {
    "id": "Nawz7wog9WNG"
   },
   "outputs": [
    {
     "name": "stdout",
     "output_type": "stream",
     "text": [
      "6\n",
      "10\n",
      "[[(0, 0), (0, 1), (1, 1), (1, 0)], [(0, 1), (0, 2), (1, 2), (1, 1)], [(1, 0), (1, 1), (2, 1), (2, 0)], [(1, 1), (1, 2), (2, 2), (2, 1)], [(2, 0), (2, 1), (3, 1), (3, 0)], [(2, 1), (2, 2), (3, 2), (3, 1)]]\n",
      "[(2, 2), (2, 3), (3, 3), (3, 2)]\n"
     ]
    }
   ],
   "source": [
    "import geo\n",
    "\n",
    "rectangle = Rectangle(3,2)\n",
    "print(rectangle.rectangle_area())\n",
    "print(rectangle.rectangle_perimeter())\n",
    "print(rectangle.list_of_patches())\n",
    "\n",
    "patch = Patch(2,2)\n",
    "print(patch.coord())"
   ]
  },
  {
   "cell_type": "code",
   "execution_count": 12,
   "metadata": {
    "id": "fkKC2A149WNG"
   },
   "outputs": [
    {
     "name": "stdout",
     "output_type": "stream",
     "text": [
      "['My', 'name', 'is', 'Brian']\n",
      "\"My name is Brian\".split()\n",
      "['My', 'name']\n",
      "['name', 'is']\n",
      "['is', 'Brian']\n"
     ]
    }
   ],
   "source": [
    "import NLP\n",
    "\n",
    "test_sentence = Sentence(\"My name is Brian\")\n",
    "\n",
    "print(test_sentence.__str__())\n",
    "print(test_sentence.__repr__())\n",
    "for bigram in test_sentence:\n",
    "  print(bigram)"
   ]
  },
  {
   "cell_type": "markdown",
   "metadata": {
    "id": "EO709Tbh9WNG"
   },
   "source": [
    "# 7. Coding style\n",
    "\n",
    "You'll often ask yourself about which letters should be capital or if you should use _ or other characters.\n",
    "\n",
    "To help you decide, python comes with PEP-8 which is a set of recommandation.\n",
    "\n",
    "It is highly advised to read PEP-8 and to apply the rules whenever it's applicable.\n",
    "\n",
    "You'll get point for style in your code (I mean, you will lose points if the code is not readable).\n",
    "\n",
    "Fortunately, [the rules of PEP-8 are not perfect and should not always be followed](https://www.youtube.com/watch?v=wf-BqAjZb8M)."
   ]
  },
  {
   "cell_type": "code",
   "execution_count": null,
   "metadata": {
    "id": "PJ33q6l_9WNG"
   },
   "outputs": [],
   "source": [
    "# You should create a github account before the next session :\n",
    "student_1_github_login = TheoDecreux\n",
    "student_2_github_login = IliesHachemi"
   ]
  },
  {
   "cell_type": "markdown",
   "metadata": {
    "id": "m5UTrCzjtRLF"
   },
   "source": [
    "Congratulations, you've reched the end of this notebook. =)"
   ]
  }
 ],
 "metadata": {
  "colab": {
   "collapsed_sections": [],
   "name": "1-python.ipynb",
   "provenance": []
  },
  "kernelspec": {
   "display_name": "Python 3",
   "language": "python",
   "name": "python3"
  },
  "language_info": {
   "codemirror_mode": {
    "name": "ipython",
    "version": 3
   },
   "file_extension": ".py",
   "mimetype": "text/x-python",
   "name": "python",
   "nbconvert_exporter": "python",
   "pygments_lexer": "ipython3",
   "version": "3.7.3"
  },
  "name": "1-python",
  "notebookId": 3047179637077656
 },
 "nbformat": 4,
 "nbformat_minor": 4
}
